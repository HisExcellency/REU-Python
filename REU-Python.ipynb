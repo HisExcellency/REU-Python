{
 "cells": [
  {
   "cell_type": "code",
   "execution_count": null,
   "metadata": {},
   "outputs": [],
   "source": [
    "# Integers\r\n",
    "x = 1\r\n",
    "print(x)\r\n",
    "print(type(x))\r\n",
    "x = 1000000000000000000000000000000000000000000000000000000000000000000000000001\r\n",
    "print(x)\r\n",
    "print(type(x))\r\n"
   ]
  },
  {
   "cell_type": "code",
   "execution_count": null,
   "metadata": {},
   "outputs": [],
   "source": [
    "age = int(input('Plase enter your age: '))\r\n",
    "print(age)\r\n",
    "print(type(age))\r\n"
   ]
  },
  {
   "cell_type": "code",
   "execution_count": null,
   "metadata": {},
   "outputs": [],
   "source": [
    "# Floating Points \r\n",
    "exchange_rate = 1.83\r\n",
    "print(exchange_rate)\r\n",
    "print(type(exchange_rate))\r\n",
    "\r\n"
   ]
  },
  {
   "cell_type": "code",
   "execution_count": null,
   "metadata": {},
   "outputs": [],
   "source": [
    "# Converting to Floats\r\n",
    "int_value = 1\r\n",
    "string_value = '1.5'\r\n",
    "float_value = float(int_value)\r\n",
    "print('int value as a float:', float_value)\r\n",
    "print(type(float_value))\r\n",
    "float_value = float(string_value)\r\n",
    "print('string value as a float:', float_value)\r\n",
    "print(type(float_value))\r\n"
   ]
  },
  {
   "cell_type": "code",
   "execution_count": null,
   "metadata": {},
   "outputs": [],
   "source": [
    "# Converting an Input String into a Floating Point Number\r\n",
    "exchange_rate = float(input('Please enter the exchange rate to use:'))\r\n",
    "print(exchange_rate)\r\n",
    "print(type(exchange_rate))\r\n"
   ]
  },
  {
   "cell_type": "code",
   "execution_count": null,
   "metadata": {},
   "outputs": [],
   "source": [
    "# Boolean value\r\n",
    "all_ok = True\r\n",
    "print(all_ok)\r\n",
    "all_ok = False\r\n",
    "print(all_ok)\r\n",
    "print(type(all_ok))\r\n",
    "\r\n"
   ]
  },
  {
   "cell_type": "code",
   "execution_count": null,
   "metadata": {},
   "outputs": [],
   "source": [
    "# Convert string into Boolean\r\n",
    "status = bool(input('Ok to proceed:'))\r\n",
    "print(status)\r\n",
    "print(type(status))\r\n"
   ]
  }
 ],
 "metadata": {
  "kernelspec": {
   "display_name": "Python 3.9.1 64-bit",
   "name": "python391jvsc74a57bd063fd5069d213b44bf678585dea6b12cceca9941eaf7f819626cde1f2670de90d"
  },
  "language_info": {
   "name": "python",
   "version": ""
  },
  "metadata": {
   "interpreter": {
    "hash": "63fd5069d213b44bf678585dea6b12cceca9941eaf7f819626cde1f2670de90d"
   }
  },
  "orig_nbformat": 2
 },
 "nbformat": 4,
 "nbformat_minor": 2
}