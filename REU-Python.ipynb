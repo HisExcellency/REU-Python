{
 "cells": [
  {
   "cell_type": "code",
   "execution_count": 1,
   "metadata": {},
   "outputs": [
    {
     "name": "stdout",
     "output_type": "stream",
     "text": [
      "1\n",
      "<class 'int'>\n",
      "1000000000000000000000000000000000000000000000000000000000000000000000000001\n",
      "<class 'int'>\n"
     ]
    }
   ],
   "source": [
    "# Integers\r\n",
    "x = 1\r\n",
    "print(x)\r\n",
    "print(type(x))\r\n",
    "x = 1000000000000000000000000000000000000000000000000000000000000000000000000001\r\n",
    "print(x)\r\n",
    "print(type(x))"
   ]
  },
  {
   "cell_type": "code",
   "execution_count": null,
   "metadata": {},
   "outputs": [],
   "source": [
    "age = int(input('Plase enter your age: '))\r\n",
    "print(age)\r\n",
    "print(type(age))"
   ]
  },
  {
   "cell_type": "code",
   "execution_count": null,
   "metadata": {},
   "outputs": [],
   "source": [
    "# Floating Points \r\n",
    "exchange_rate = 1.83\r\n",
    "print(exchange_rate)\r\n",
    "print(type(exchange_rate))"
   ]
  },
  {
   "cell_type": "code",
   "execution_count": null,
   "metadata": {},
   "outputs": [],
   "source": [
    "# Converting to Floats\r\n",
    "int_value = 1\r\n",
    "string_value = '1.5'\r\n",
    "float_value = float(int_value)\r\n",
    "print('int value as a float:', float_value)\r\n",
    "print(type(float_value))\r\n",
    "float_value = float(string_value)\r\n",
    "print('string value as a float:', float_value)\r\n",
    "print(type(float_value))"
   ]
  },
  {
   "cell_type": "code",
   "execution_count": null,
   "metadata": {},
   "outputs": [],
   "source": [
    "# Converting an Input String into a Floating Point Number\r\n",
    "exchange_rate = float(input('Please enter the exchange rate to use:'))\r\n",
    "print(exchange_rate)\r\n",
    "print(type(exchange_rate))"
   ]
  },
  {
   "cell_type": "code",
   "execution_count": null,
   "metadata": {},
   "outputs": [],
   "source": [
    "# Boolean value\r\n",
    "all_ok = True\r\n",
    "print(all_ok)\r\n",
    "all_ok = False\r\n",
    "print(all_ok)\r\n",
    "print(type(all_ok))"
   ]
  },
  {
   "cell_type": "code",
   "execution_count": null,
   "metadata": {},
   "outputs": [],
   "source": [
    "# Convert string into Boolean\r\n",
    "status = bool(input('Ok to proceed:'))\r\n",
    "print(status)\r\n",
    "print(type(status))"
   ]
  },
  {
   "cell_type": "code",
   "execution_count": null,
   "metadata": {},
   "outputs": [],
   "source": [
    "home = 10\r\n",
    "away = 15\r\n",
    "print(home + away)\r\n",
    "print(type(home + away))\r\n",
    "print(10 * 4)\r\n",
    "print(type(10*4))\r\n",
    "goals_for = 10\r\n",
    "goals_against = 7\r\n",
    "print(goals_for - goals_against)\r\n",
    "print(type(goals_for - goals_against))"
   ]
  }
 ],
 "metadata": {
  "kernelspec": {
   "display_name": "Python 3.9.1 64-bit",
   "name": "python391jvsc74a57bd063fd5069d213b44bf678585dea6b12cceca9941eaf7f819626cde1f2670de90d"
  },
  "language_info": {
   "codemirror_mode": {
    "name": "ipython",
    "version": 3
   },
   "file_extension": ".py",
   "mimetype": "text/x-python",
   "name": "python",
   "nbconvert_exporter": "python",
   "pygments_lexer": "ipython3",
   "version": "3.9.1"
  },
  "metadata": {
   "interpreter": {
    "hash": "63fd5069d213b44bf678585dea6b12cceca9941eaf7f819626cde1f2670de90d"
   }
  },
  "orig_nbformat": 2
 },
 "nbformat": 4,
 "nbformat_minor": 2
}